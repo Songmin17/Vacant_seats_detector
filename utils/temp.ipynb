{
 "cells": [
  {
   "cell_type": "code",
   "execution_count": 1,
   "metadata": {},
   "outputs": [],
   "source": [
    "import os\n",
    "import sys\n",
    "import numpy as np\n",
    "import cv2\n",
    "\n",
    "from utils.homography import compute_h, cor_p\n",
    "from utils.triangulation import triangulation\n",
    "from pathlib import Path\n",
    "from shapely.geometry import Polygon"
   ]
  },
  {
   "cell_type": "code",
   "execution_count": 2,
   "metadata": {},
   "outputs": [],
   "source": [
    "num_cams = 4\n",
    "cam_poses = {} # key: cami, value: pose\n",
    "for i in range(num_cams):\n",
    "    with open(f'./camera_poses/{i:05d}.txt', 'r') as f:\n",
    "        lines = f.readlines()\n",
    "        pose = []\n",
    "        for line in lines:\n",
    "            data = list(map(float, line.split(\" \")))\n",
    "            pose.append(data)\n",
    "        pose = np.array(pose)\n",
    "        cam_poses[f'cam{i}'] = pose.reshape(4, 4)"
   ]
  },
  {
   "cell_type": "code",
   "execution_count": 3,
   "metadata": {},
   "outputs": [],
   "source": [
    "yolo_outputs = {} # key: cami, value: yolo_output\n",
    "\n",
    "for i in range(num_cams):\n",
    "\n",
    "    # outputs of one camera:\n",
    "    yolo_output = {} # key: class, value: yolo_output\n",
    "    yolo_output['chair'], yolo_output['table'], yolo_output['person'] = [], [], []\n",
    "\n",
    "    with open(f'./runs/detect/layout/cam{i}/labels/00000.txt', 'r') as f:\n",
    "        lines = f.readlines()\n",
    "        for line in lines:\n",
    "            data = list(map(float, line.split(\" \")))\n",
    "\n",
    "            # check object class\n",
    "            if data[0] == 56 or data[0] == 11: # chair or bench\n",
    "                yolo_output['chair'].append(np.array(data[1:5]))\n",
    "            elif data[0] == 60: # table\n",
    "                yolo_output['table'].append(np.array(data[1:5]))\n",
    "            elif data[0] == 0: # person\n",
    "                yolo_output['person'].append(np.array(data[1:5]))\n",
    "        yolo_outputs[f'cam{i}'] = yolo_output"
   ]
  },
  {
   "cell_type": "code",
   "execution_count": 10,
   "metadata": {},
   "outputs": [
    {
     "name": "stdout",
     "output_type": "stream",
     "text": [
      "[-2.64883981  0.29517656  4.03811247]\n",
      "Reversed0:  [320.87907578806625, 801.1988747261788]\n",
      "Reversed1:  [323.49884184275913, 530.2669335358781]\n",
      "Reversed2:  [492.1333978947884, 463.53028434812904]\n",
      "Reversed3:  [795.564651038152, 528.5538062304662]\n",
      "[-1.66242026  1.44899178  3.67237594]\n",
      "Reversed0:  [519.2399819301586, 1114.78250379963]\n",
      "Reversed1:  [389.6405885546466, 842.1845146255065]\n",
      "Reversed2:  [434.48941995892187, 714.3924150371314]\n",
      "Reversed3:  [648.4333803761051, 692.5800242073246]\n",
      "[-0.54477663 -0.27226253  2.8735826 ]\n",
      "Reversed0:  [775.9780640706031, 637.4708428658666]\n",
      "Reversed1:  [470.23949747407295, 425.37996819788884]\n",
      "Reversed2:  [375.3493890658939, 383.4551564208737]\n",
      "Reversed3:  [610.8301400963821, 425.5572811804795]\n",
      "[ 10.60487483 -11.19737945 -12.22481217]\n",
      "Reversed0:  [114.4672582801824, 1623.385455881854]\n",
      "Reversed1:  [645.0150940229985, 1123.648282317398]\n",
      "Reversed2:  [1046.4736398575624, 1099.1402347103951]\n",
      "Reversed3:  [1423.3510385395766, 1497.0825922076078]\n"
     ]
    }
   ],
   "source": [
    "h, w = 1456, 1928\n",
    "\n",
    "poses = [cam_poses[f'cam{i}'][:3, :] for i in range(num_cams)]\n",
    "\n",
    "K = np.array([\n",
    "        [975.813843, 0, 960.973816],\n",
    "        [0, 975.475220, 729.893921],\n",
    "        [0, 0, 1]\n",
    "    ])\n",
    "\n",
    "for idx in range(len(cor_p)):\n",
    "    X = [cor_p[i][idx][0] for i in range(num_cams)]\n",
    "    Y = [cor_p[i][idx][1] for i in range(num_cams)]\n",
    "    triangulated = triangulation(poses, X, Y)\n",
    "    print(triangulated)\n",
    "    for i in range(num_cams):\n",
    "        reversed = K @ poses[i] @ np.array(triangulated.tolist() + [1])\n",
    "        reversed = [reversed[0]/reversed[-1], reversed[1]/reversed[-1]]\n",
    "        print(f\"Reversed{i}: \", reversed)"
   ]
  }
 ],
 "metadata": {
  "kernelspec": {
   "display_name": "Python 3.9.7 ('base')",
   "language": "python",
   "name": "python3"
  },
  "language_info": {
   "codemirror_mode": {
    "name": "ipython",
    "version": 3
   },
   "file_extension": ".py",
   "mimetype": "text/x-python",
   "name": "python",
   "nbconvert_exporter": "python",
   "pygments_lexer": "ipython3",
   "version": "3.9.7"
  },
  "orig_nbformat": 4,
  "vscode": {
   "interpreter": {
    "hash": "46c22819982bfc3fa1a5eba701ff6078061d36c721a5b8eb1e1239b0e9a9e425"
   }
  }
 },
 "nbformat": 4,
 "nbformat_minor": 2
}
