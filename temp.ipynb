{
 "cells": [
  {
   "cell_type": "code",
   "execution_count": 1,
   "metadata": {},
   "outputs": [],
   "source": [
    "import os\n",
    "import sys\n",
    "import numpy as np\n",
    "import cv2\n",
    "\n",
    "from utils.homography import compute_h, cor_p\n",
    "from utils.triangulation import triangulation\n",
    "from pathlib import Path\n",
    "from shapely.geometry import Polygon"
   ]
  },
  {
   "cell_type": "code",
   "execution_count": 2,
   "metadata": {},
   "outputs": [],
   "source": [
    "num_cams = 4\n",
    "cam_poses = {} # key: cami, value: pose\n",
    "for i in range(num_cams):\n",
    "    with open(f'./camera_poses/{i:05d}.txt', 'r') as f:\n",
    "        lines = f.readlines()\n",
    "        pose = []\n",
    "        for line in lines:\n",
    "            data = list(map(float, line.split(\" \")))\n",
    "            pose.append(data)\n",
    "        pose = np.array(pose)\n",
    "        cam_poses[f'cam{i}'] = pose.reshape(4, 4)"
   ]
  },
  {
   "cell_type": "code",
   "execution_count": 3,
   "metadata": {},
   "outputs": [],
   "source": [
    "yolo_outputs = {} # key: cami, value: yolo_output\n",
    "\n",
    "for i in range(num_cams):\n",
    "\n",
    "    # outputs of one camera:\n",
    "    yolo_output = {} # key: class, value: yolo_output\n",
    "    yolo_output['chair'], yolo_output['table'], yolo_output['person'] = [], [], []\n",
    "\n",
    "    with open(f'./runs/detect/layout/cam{i}/labels/00000.txt', 'r') as f:\n",
    "        lines = f.readlines()\n",
    "        for line in lines:\n",
    "            data = list(map(float, line.split(\" \")))\n",
    "\n",
    "            # check object class\n",
    "            if data[0] == 56 or data[0] == 11: # chair or bench\n",
    "                yolo_output['chair'].append(np.array(data[1:5]))\n",
    "            elif data[0] == 60: # table\n",
    "                yolo_output['table'].append(np.array(data[1:5]))\n",
    "            elif data[0] == 0: # person\n",
    "                yolo_output['person'].append(np.array(data[1:5]))\n",
    "        yolo_outputs[f'cam{i}'] = yolo_output"
   ]
  },
  {
   "cell_type": "code",
   "execution_count": 8,
   "metadata": {},
   "outputs": [
    {
     "name": "stdout",
     "output_type": "stream",
     "text": [
      "[609, 1223, 1613, 1673] [1025, 1082, 893, 698]\n",
      "[-2.22324864 -0.83021165  3.27884171]\n",
      "Reversed0:  [299.314306524057, 482.90093805638975]\n",
      "Reversed1:  [220.56496972177214, 216.87949992647611]\n",
      "Reversed2:  [403.2184400857285, 210.67001604920713]\n",
      "Reversed3:  [774.5617292071622, 326.952170277115]\n",
      "[399, 568, 834, 1203] [632, 863, 897, 888]\n",
      "[-1.65689084  0.2555697   3.50342011]\n",
      "Reversed0:  [499.47706079732404, 801.0535038068356]\n",
      "Reversed1:  [373.2010186967893, 555.5557830543232]\n",
      "Reversed2:  [445.63817821232294, 484.35668206919325]\n",
      "Reversed3:  [712.0086481127998, 524.6002201086619]\n",
      "[1491, 1523, 1463, 1297] [819, 798, 669, 510]\n",
      "[-0.81926374 -0.89068167  2.25822891]\n",
      "Reversed0:  [606.9579336184303, 345.15086408756395]\n",
      "Reversed1:  [155.41077004241947, 54.08820363821946]\n",
      "Reversed2:  [151.86582391189, 88.81564975553185]\n",
      "Reversed3:  [551.7675729739271, 210.33092961376343]\n",
      "[683, 718, 775, 834] [549, 739, 755, 734]\n",
      "[-0.24672675  0.06841967  3.22583904]\n",
      "Reversed0:  [886.3391629182964, 750.5836365173292]\n",
      "Reversed1:  [631.036235898427, 575.0183955490745]\n",
      "Reversed2:  [491.8064069251316, 527.5233184559833]\n",
      "Reversed3:  [638.1536566028426, 548.0110219513566]\n"
     ]
    }
   ],
   "source": [
    "h, w = 1456, 1928\n",
    "\n",
    "poses = [cam_poses[f'cam{i}'][:3, :] for i in range(num_cams)]\n",
    "\n",
    "K = np.array([\n",
    "        [975.813843, 0, 960.973816],\n",
    "        [0, 975.475220, 729.893921],\n",
    "        [0, 0, 1]\n",
    "    ])\n",
    "\n",
    "for idx in range(len(cor_p)):\n",
    "    X = [cor_p[i][idx][0] for i in range(num_cams)]\n",
    "    Y = [cor_p[i][idx][1] for i in range(num_cams)]\n",
    "    print(X, Y)\n",
    "    triangulated = triangulation(poses, X, Y)\n",
    "    print(triangulated)\n",
    "    for i in range(num_cams):\n",
    "        reversed = K @ poses[i] @ np.array(triangulated.tolist() + [1])\n",
    "        reversed = [reversed[0]/reversed[-1], reversed[1]/reversed[-1]]\n",
    "        print(f\"Reversed{i}: \", reversed)"
   ]
  },
  {
   "cell_type": "code",
   "execution_count": null,
   "metadata": {},
   "outputs": [],
   "source": []
  }
 ],
 "metadata": {
  "kernelspec": {
   "display_name": "Python 3.9.7 ('base')",
   "language": "python",
   "name": "python3"
  },
  "language_info": {
   "codemirror_mode": {
    "name": "ipython",
    "version": 3
   },
   "file_extension": ".py",
   "mimetype": "text/x-python",
   "name": "python",
   "nbconvert_exporter": "python",
   "pygments_lexer": "ipython3",
   "version": "3.9.7"
  },
  "orig_nbformat": 4,
  "vscode": {
   "interpreter": {
    "hash": "46c22819982bfc3fa1a5eba701ff6078061d36c721a5b8eb1e1239b0e9a9e425"
   }
  }
 },
 "nbformat": 4,
 "nbformat_minor": 2
}
