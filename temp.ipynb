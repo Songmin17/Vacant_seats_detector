{
 "cells": [
  {
   "cell_type": "code",
   "execution_count": 1,
   "metadata": {},
   "outputs": [],
   "source": [
    "import os\n",
    "import sys\n",
    "import numpy as np\n",
    "import cv2\n",
    "\n",
    "from utils.homography import compute_h, cor_p\n",
    "from utils.triangulation import triangulation\n",
    "from pathlib import Path\n",
    "from shapely.geometry import Polygon"
   ]
  },
  {
   "cell_type": "code",
   "execution_count": 2,
   "metadata": {},
   "outputs": [],
   "source": [
    "num_cams = 4\n",
    "cam_poses = {} # key: cami, value: pose\n",
    "for i in range(num_cams):\n",
    "    with open(f'./camera_poses/{i:05d}.txt', 'r') as f:\n",
    "        lines = f.readlines()\n",
    "        pose = []\n",
    "        for line in lines:\n",
    "            data = list(map(float, line.split(\" \")))\n",
    "            pose.append(data)\n",
    "        pose = np.array(pose)\n",
    "        cam_poses[f'cam{i}'] = pose.reshape(4, 4)"
   ]
  },
  {
   "cell_type": "code",
   "execution_count": 3,
   "metadata": {},
   "outputs": [],
   "source": [
    "yolo_outputs = {} # key: cami, value: yolo_output\n",
    "\n",
    "for i in range(num_cams):\n",
    "\n",
    "    # outputs of one camera:\n",
    "    yolo_output = {} # key: class, value: yolo_output\n",
    "    yolo_output['chair'], yolo_output['table'], yolo_output['person'] = [], [], []\n",
    "\n",
    "    with open(f'./runs/detect/layout/cam{i}/labels/00000.txt', 'r') as f:\n",
    "        lines = f.readlines()\n",
    "        for line in lines:\n",
    "            data = list(map(float, line.split(\" \")))\n",
    "\n",
    "            # check object class\n",
    "            if data[0] == 56 or data[0] == 11: # chair or bench\n",
    "                yolo_output['chair'].append(np.array(data[1:5]))\n",
    "            elif data[0] == 60: # table\n",
    "                yolo_output['table'].append(np.array(data[1:5]))\n",
    "            elif data[0] == 0: # person\n",
    "                yolo_output['person'].append(np.array(data[1:5]))\n",
    "        yolo_outputs[f'cam{i}'] = yolo_output"
   ]
  },
  {
   "cell_type": "code",
   "execution_count": 7,
   "metadata": {},
   "outputs": [
    {
     "name": "stdout",
     "output_type": "stream",
     "text": [
      "[609, 1223, 1613, 1673] [1025, 1082, 893, 698]\n",
      "[-0.64439422  0.64644906  1.9002724 ]\n",
      "Reversed0:  [array([630.06925808]), array([1061.73846955])]\n",
      "Reversed1:  [array([1253.68906216]), array([1108.11739441])]\n",
      "Reversed2:  [array([1632.05232256]), array([904.23285742])]\n",
      "Reversed3:  [array([1673.65826606]), array([698.05559345])]\n",
      "[399, 568, 834, 1203] [632, 863, 897, 888]\n",
      "[-2.03783136 -0.37931437  3.51591321]\n",
      "Reversed0:  [array([395.38987451]), array([624.65475529])]\n",
      "Reversed1:  [array([566.13197556]), array([862.1384292])]\n",
      "Reversed2:  [array([835.80463896]), array([897.68442401])]\n",
      "Reversed3:  [array([1204.04258058]), array([889.09437475])]\n",
      "[1491, 1523, 1463, 1297] [819, 798, 669, 510]\n",
      "[1.63704086 0.30526341 2.87154828]\n",
      "Reversed0:  [array([1517.2754972]), array([833.59299404])]\n",
      "Reversed1:  [array([1538.07191252]), array([805.5859874])]\n",
      "Reversed2:  [array([1466.02533342]), array([670.76347106])]\n",
      "Reversed3:  [array([1288.21413468]), array([506.31542233])]\n",
      "[683, 718, 775, 834] [549, 739, 755, 734]\n",
      "[-1.25637634 -0.80773087  4.60602474]\n",
      "Reversed0:  [array([694.80298703]), array([558.83069618])]\n",
      "Reversed1:  [array([732.42808454]), array([752.96035725])]\n",
      "Reversed2:  [array([787.18764831]), array([767.91552961])]\n",
      "Reversed3:  [array([843.80931115]), array([742.10008714])]\n"
     ]
    }
   ],
   "source": [
    "h, w = 1456, 1928\n",
    "\n",
    "poses = [cam_poses[f'cam{i}'][:3, :] for i in range(num_cams)]\n",
    "\n",
    "K = np.array([\n",
    "        [975.813843, 0, 960.973816],\n",
    "        [0, 975.475220, 729.893921],\n",
    "        [0, 0, 1]\n",
    "    ])\n",
    "\n",
    "for idx in range(len(cor_p)):\n",
    "    X = [cor_p[i][idx][0] for i in range(num_cams)]\n",
    "    Y = [cor_p[i][idx][1] for i in range(num_cams)]\n",
    "    print(X, Y)\n",
    "    triangulated = triangulation(poses, X, Y)\n",
    "    print(triangulated)\n",
    "    for i in range(num_cams):\n",
    "        pose = poses[i]\n",
    "        pose = np.vstack((pose, np.array([0, 0, 0, 1])))\n",
    "        pose = np.linalg.inv(pose)\n",
    "        pose = pose[:3, :]\n",
    "        reversed = K @ pose @ np.array(triangulated.tolist() + [1]).reshape(4, 1)\n",
    "        reversed = [reversed[0]/reversed[-1], reversed[1]/reversed[-1]]\n",
    "        print(f\"Reversed{i}: \", reversed)"
   ]
  },
  {
   "cell_type": "code",
   "execution_count": null,
   "metadata": {},
   "outputs": [],
   "source": []
  }
 ],
 "metadata": {
  "kernelspec": {
   "display_name": "Python 3.10.6 ('.venv': venv)",
   "language": "python",
   "name": "python3"
  },
  "language_info": {
   "codemirror_mode": {
    "name": "ipython",
    "version": 3
   },
   "file_extension": ".py",
   "mimetype": "text/x-python",
   "name": "python",
   "nbconvert_exporter": "python",
   "pygments_lexer": "ipython3",
   "version": "3.10.6"
  },
  "vscode": {
   "interpreter": {
    "hash": "ef669e757f88b4ba2531c98927f311dfa6b1b32933ad6aa67055d35cf19a49af"
   }
  }
 },
 "nbformat": 4,
 "nbformat_minor": 2
}
