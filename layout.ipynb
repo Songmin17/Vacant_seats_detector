{
 "cells": [
  {
   "cell_type": "code",
   "execution_count": 1,
   "metadata": {},
   "outputs": [],
   "source": [
    "import os\n",
    "import sys\n",
    "import numpy as np\n",
    "import cv2\n",
    "\n",
    "from utils.homography import compute_h, cor_p\n",
    "from utils.triangulation import triangulation\n",
    "from pathlib import Path\n",
    "from shapely.geometry import Polygon"
   ]
  },
  {
   "cell_type": "markdown",
   "metadata": {},
   "source": [
    "# Triangulation"
   ]
  },
  {
   "cell_type": "code",
   "execution_count": 2,
   "metadata": {},
   "outputs": [],
   "source": [
    "num_cams = 4\n",
    "cam_poses = {} # key: cami, value: pose\n",
    "for i in range(num_cams):\n",
    "    with open(f'./camera_poses/{i:05d}.txt', 'r') as f:\n",
    "        lines = f.readlines()\n",
    "        pose = []\n",
    "        for line in lines:\n",
    "            data = list(map(float, line.split(\" \")))\n",
    "            pose.append(data)\n",
    "        pose = np.array(pose)\n",
    "        cam_poses[f'cam{i}'] = pose.reshape(4, 4)\n",
    "\n",
    "yolo_outputs = {} # key: cami, value: yolo_output\n",
    "\n",
    "for i in range(num_cams):\n",
    "\n",
    "    # outputs of one camera:\n",
    "    yolo_output = {} # key: class, value: yolo_output\n",
    "    yolo_output['chair'], yolo_output['table'], yolo_output['person'] = [], [], []\n",
    "\n",
    "    with open(f'./runs/detect/layout/cam{i}/labels/00000.txt', 'r') as f:\n",
    "        lines = f.readlines()\n",
    "        for line in lines:\n",
    "            data = list(map(float, line.split(\" \")))\n",
    "\n",
    "            # check object class\n",
    "            if data[0] == 56 or data[0] == 11: # chair or bench\n",
    "                yolo_output['chair'].append(np.array(data[1:5]))\n",
    "            elif data[0] == 60: # table\n",
    "                yolo_output['table'].append(np.array(data[1:5]))\n",
    "            elif data[0] == 0: # person\n",
    "                yolo_output['person'].append(np.array(data[1:5]))\n",
    "        yolo_outputs[f'cam{i}'] = yolo_output"
   ]
  },
  {
   "cell_type": "code",
   "execution_count": 10,
   "metadata": {},
   "outputs": [
    {
     "name": "stdout",
     "output_type": "stream",
     "text": [
      "[[-0.64439422  0.64644906  1.9002724 ]\n",
      " [-2.03783136 -0.37931437  3.51591321]\n",
      " [ 1.63704086  0.30526341  2.87154828]\n",
      " [-1.25637634 -0.80773087  4.60602474]\n",
      " [-0.4540996  -0.19573119  3.51672827]\n",
      " [ 1.31323541 -0.66075585  4.70064608]]\n"
     ]
    }
   ],
   "source": [
    "h, w = 1456, 1928\n",
    "\n",
    "poses = [cam_poses[f'cam{i}'][:3, :] for i in range(num_cams)]\n",
    "K = np.array([\n",
    "        [975.813843, 0, 960.973816],\n",
    "        [0, 975.475220, 729.893921],\n",
    "        [0, 0, 1]\n",
    "    ])\n",
    "\n",
    "triangulated = []\n",
    "for idx in range(len(cor_p[0])):\n",
    "    X = [cor_p[i][idx][0] for i in range(num_cams)]\n",
    "    Y = [cor_p[i][idx][1] for i in range(num_cams)]\n",
    "    triangulated.append(triangulation(poses, X, Y))\n",
    "triangulated = np.array(triangulated)\n",
    "print(triangulated)"
   ]
  },
  {
   "cell_type": "code",
   "execution_count": 11,
   "metadata": {},
   "outputs": [
    {
     "name": "stdout",
     "output_type": "stream",
     "text": [
      "[ 0.04389121 -0.49583658 -0.25795586  0.82805701]\n"
     ]
    }
   ],
   "source": [
    "cords = np.hstack((triangulated, np.ones((len(triangulated), 1))))\n",
    "_, sigma , V = np.linalg.svd(cords)\n",
    "plane = V[-1, :]\n",
    "print(plane)"
   ]
  },
  {
   "cell_type": "code",
   "execution_count": 12,
   "metadata": {},
   "outputs": [
    {
     "name": "stdout",
     "output_type": "stream",
     "text": [
      "0.019523480317964182\n",
      "0.03521248863441822\n",
      "0.013939752563476765\n",
      "0.026283020684255493\n",
      "0.0035386899106955544\n",
      "0.0013631166298566893\n"
     ]
    }
   ],
   "source": [
    "def distToPlane(point, plane):\n",
    "    A, B, C, D = plane\n",
    "    x, y, z = point\n",
    "    return np.abs(A*x+B*y+C*z+D)/np.sqrt(np.sum(np.power([A, B, C],2)))\n",
    "\n",
    "for cord in triangulated:\n",
    "    print(distToPlane(cord, plane))"
   ]
  },
  {
   "cell_type": "code",
   "execution_count": 13,
   "metadata": {},
   "outputs": [
    {
     "name": "stdout",
     "output_type": "stream",
     "text": [
      "Pixel:  [609, 1025, 1]\n",
      "Triangulated:  [-0.64439422  0.64644906  1.9002724 ]\n",
      "PixelToCord of Pixel:  [-0.7047781   0.59111358  1.95393009]\n",
      "Distance to Plane:  1.9802641679796378e-16\n"
     ]
    }
   ],
   "source": [
    "Kinv = np.linalg.inv(K)\n",
    "pose = poses[0]\n",
    "M = np.vstack((plane, pose))\n",
    "\n",
    "\n",
    "def pixelToCord(pixel, Kinv, M):\n",
    "    vec = np.hstack(([0], Kinv @ pixel))\n",
    "    res = np.linalg.inv(M) @ vec\n",
    "    res = res[:-1]/res[-1]\n",
    "    return res\n",
    "\n",
    "pixel = cor_p[0][0] + [1]\n",
    "print(\"Pixel: \", pixel)\n",
    "res = pixelToCord(pixel, Kinv, M)\n",
    "print(\"Triangulated: \", triangulated[0])\n",
    "print(\"PixelToCord of Pixel: \", res)\n",
    "print(\"Distance to Plane: \", distToPlane(res, plane))"
   ]
  },
  {
   "cell_type": "markdown",
   "metadata": {},
   "source": [
    "# Layout"
   ]
  },
  {
   "cell_type": "code",
   "execution_count": 3,
   "metadata": {},
   "outputs": [],
   "source": [
    "h, w = 1456, 1928\n",
    "\n",
    "poses = [cam_poses[f'cam{i}'][:3, :] for i in range(num_cams)]\n",
    "\n",
    "# Creates array of bounding box information given yolo-outputs of cam{id}\n",
    "# Input: id\n",
    "# Output: an array of [center, bbox] corresponding to a table\n",
    "#   bboxes  : an array of [center, bbox] corresponding to a table\n",
    "#   center  : [horizontal, vertical] pixel values\n",
    "#   bbox    : [[horizontal, vertical] of the 4 corners of the bounding box]\n",
    "def yoloToBoxes(id):\n",
    "    bboxes = []\n",
    "    for i, table in enumerate(yolo_outputs[f'cam{id}']['table']):\n",
    "        y_, x_, w_, h_ = table\n",
    "        vertices = [[-1, -1], [-1, 1], [1, 1], [1, -1]]\n",
    "        vertices = [[x_ + p[0] * h_ / 2, y_ + p[1] * w_ / 2] for p in vertices] # (vertical, horizontal)\n",
    "        center = np.array([int(y_ * w), int(x_ * h)])   # (horizontal, vertical)\n",
    "\n",
    "        bbox = []\n",
    "        for v in vertices:\n",
    "            point = [int(v[1] * w), int(v[0] * h)] \n",
    "            bbox.append(point)\n",
    "        bbox = np.array(bbox)\n",
    "        bboxes.append([center, bbox])\n",
    "\n",
    "    return bboxes"
   ]
  },
  {
   "cell_type": "code",
   "execution_count": 9,
   "metadata": {},
   "outputs": [],
   "source": [
    "def distance(p1, p2, weight=[]):\n",
    "    if len(weight)==0:\n",
    "        weight = np.ones(len(p1))/len(p1)\n",
    "    return np.linalg.norm((p1 - p2) * weight)"
   ]
  },
  {
   "cell_type": "code",
   "execution_count": 10,
   "metadata": {},
   "outputs": [],
   "source": [
    "superPixels = []\n",
    "for r in [0, 100, 200]:\n",
    "    for g in [0, 100, 200]:\n",
    "        for b in [0, 100, 200]:\n",
    "            superPixels.append([r, g, b])\n",
    "superPixels = np.array(superPixels)\n",
    "\n",
    "for id in range(num_cams):\n",
    "    img = cv2.imread(f'./data/layout/cam{id}/00000.jpg')\n",
    "    res = np.zeros(img.shape, dtype=np.uint8) + 255\n",
    "    w, h, c = img.shape\n",
    "    for i in range(w):\n",
    "        for j in range(h):\n",
    "            data = img[i][j]\n",
    "            distances = [distance(data, x) for x in superPixels]\n",
    "            res[i][j] = superPixels[np.argmin(distances)]\n",
    "    cv2.imwrite(f\"./runs/discretize/cam{id}.jpg\", res)\n",
    "    break\n"
   ]
  }
 ],
 "metadata": {
  "kernelspec": {
   "display_name": "Python 3.9.7 ('base')",
   "language": "python",
   "name": "python3"
  },
  "language_info": {
   "codemirror_mode": {
    "name": "ipython",
    "version": 3
   },
   "file_extension": ".py",
   "mimetype": "text/x-python",
   "name": "python",
   "nbconvert_exporter": "python",
   "pygments_lexer": "ipython3",
   "version": "3.9.7"
  },
  "orig_nbformat": 4,
  "vscode": {
   "interpreter": {
    "hash": "46c22819982bfc3fa1a5eba701ff6078061d36c721a5b8eb1e1239b0e9a9e425"
   }
  }
 },
 "nbformat": 4,
 "nbformat_minor": 2
}
